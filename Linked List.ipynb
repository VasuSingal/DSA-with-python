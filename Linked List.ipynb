{
 "cells": [
  {
   "cell_type": "markdown",
   "metadata": {},
   "source": [
    "Declaration and Printing"
   ]
  },
  {
   "cell_type": "code",
   "execution_count": 2,
   "metadata": {},
   "outputs": [],
   "source": [
    "class Node:\n",
    "    def __init__(self,data):\n",
    "        self.data = data\n",
    "        self.next = None\n",
    "\n",
    "def printLL(head):\n",
    "    while head is not None:\n",
    "        print(str(head.data)+\"->\", end=\"\")\n",
    "        head = head.next\n",
    "    print(\"None\")\n",
    "    return"
   ]
  },
  {
   "cell_type": "markdown",
   "metadata": {},
   "source": [
    "Input"
   ]
  },
  {
   "cell_type": "code",
   "execution_count": 3,
   "metadata": {},
   "outputs": [
    {
     "name": "stdout",
     "output_type": "stream",
     "text": [
      "1->2->3->4->5->6->7->None\n"
     ]
    }
   ],
   "source": [
    "def takeInput():\n",
    "\n",
    "    inputList = list(map(int,input().split()))\n",
    "    head = None\n",
    "    tail = None\n",
    "    for currData in inputList:\n",
    "        if currData == -1:\n",
    "            break\n",
    "\n",
    "        newNode = Node(currData)\n",
    "        if head is None:\n",
    "            head = newNode\n",
    "            tail = newNode\n",
    "        else:\n",
    "            tail.next = newNode\n",
    "            tail = newNode\n",
    "\n",
    "    return head\n",
    "\n",
    "head = takeInput()\n",
    "printLL(head)"
   ]
  },
  {
   "cell_type": "markdown",
   "metadata": {},
   "source": [
    "Counting Number of Nodes"
   ]
  },
  {
   "cell_type": "code",
   "execution_count": 4,
   "metadata": {},
   "outputs": [
    {
     "name": "stdout",
     "output_type": "stream",
     "text": [
      "1->2->3->4->5->6->7->None\n"
     ]
    },
    {
     "data": {
      "text/plain": [
       "7"
      ]
     },
     "execution_count": 4,
     "metadata": {},
     "output_type": "execute_result"
    }
   ],
   "source": [
    "def getCount(head):\n",
    "    count = 0\n",
    "    while head is not None:\n",
    "        count = count +1\n",
    "        head = head.next\n",
    "    return((count))\n",
    "\n",
    "head = takeInput()\n",
    "printLL(head)\n",
    "\n",
    "getCount(head)"
   ]
  },
  {
   "cell_type": "markdown",
   "metadata": {},
   "source": [
    "Getting ith Element"
   ]
  },
  {
   "cell_type": "code",
   "execution_count": 5,
   "metadata": {},
   "outputs": [
    {
     "name": "stdout",
     "output_type": "stream",
     "text": [
      "1->2->3->4->5->6->7->None\n",
      "5\n"
     ]
    }
   ],
   "source": [
    "def ithElement(i,head):                 # \"i\" staring from 0\n",
    "    count = -1\n",
    "    while head is not None:\n",
    "        count = count +1\n",
    "        if count==i:\n",
    "            print(head.data)\n",
    "            break\n",
    "        else:\n",
    "            head = head.next\n",
    "\n",
    "head = takeInput()\n",
    "printLL(head)\n",
    "ithElement(4,head)"
   ]
  },
  {
   "cell_type": "markdown",
   "metadata": {},
   "source": [
    "Inseting"
   ]
  },
  {
   "cell_type": "code",
   "execution_count": 6,
   "metadata": {},
   "outputs": [
    {
     "name": "stdout",
     "output_type": "stream",
     "text": [
      "1->2->3->4->5->6->7->None\n",
      "1->2->3->4->30->5->6->7->None\n"
     ]
    }
   ],
   "source": [
    "def insert(head,i,a):\n",
    "    newNode = Node(a)\n",
    "    total = getCount(head)\n",
    "    \n",
    "    if i<0 or i>(total):\n",
    "        return head\n",
    "    \n",
    "    count = 0\n",
    "    prev = None\n",
    "    curr = head\n",
    "    while count<i:\n",
    "        prev = curr\n",
    "        curr = curr.next\n",
    "        count = count + 1\n",
    "\n",
    "    if prev is not None:\n",
    "        prev.next = newNode\n",
    "    else:\n",
    "        head = newNode\n",
    "    newNode.next = curr\n",
    "\n",
    "    return head\n",
    "\n",
    "head = takeInput()\n",
    "printLL(head)\n",
    "insert(head,4,30)\n",
    "printLL(head)"
   ]
  },
  {
   "cell_type": "markdown",
   "metadata": {},
   "source": [
    "Deleting Node"
   ]
  },
  {
   "cell_type": "code",
   "execution_count": 14,
   "metadata": {},
   "outputs": [
    {
     "name": "stdout",
     "output_type": "stream",
     "text": [
      "1->2->3->4->30->5->6->7->None\n",
      "1->2->3->4->5->6->7->None\n"
     ]
    }
   ],
   "source": [
    "def delete(head,i):\n",
    "    if i<0 or i>getCount(head):\n",
    "        return head\n",
    "    \n",
    "    count = 0\n",
    "    prev = None\n",
    "    curr = head\n",
    "    while count<i:\n",
    "        prev = curr\n",
    "        curr = curr.next\n",
    "        count = count + 1\n",
    "\n",
    "    if prev is None:\n",
    "        head = head.next\n",
    "\n",
    "    else:\n",
    "        curr = curr.next\n",
    "        prev.next = curr\n",
    "    \n",
    "    return head\n",
    "\n",
    "printLL(head)\n",
    "head = delete(head, 4)\n",
    "printLL(head)"
   ]
  },
  {
   "cell_type": "markdown",
   "metadata": {},
   "source": [
    "Inserting Recursively"
   ]
  },
  {
   "cell_type": "code",
   "execution_count": 15,
   "metadata": {},
   "outputs": [
    {
     "name": "stdout",
     "output_type": "stream",
     "text": [
      "1->2->3->4->5->6->7->None\n",
      "1->2->3->4->30->5->6->7->None\n"
     ]
    }
   ],
   "source": [
    "def insertRecursive(head,i,data):\n",
    "\n",
    "    if i<0:\n",
    "        return head\n",
    "\n",
    "    if i ==0:\n",
    "        newNode = Node(data)\n",
    "        newNode.next = head\n",
    "        return newNode\n",
    "    \n",
    "    if head is None:\n",
    "        return None\n",
    "\n",
    "    smallHead = insertRecursive(head.next,i-1,data)\n",
    "    head.next = smallHead\n",
    "    return head\n",
    "\n",
    "printLL(head)\n",
    "insertRecursive(head, 4, 30)\n",
    "printLL(head)"
   ]
  },
  {
   "cell_type": "markdown",
   "metadata": {},
   "source": [
    "Deleting Recursively"
   ]
  },
  {
   "cell_type": "code",
   "execution_count": 22,
   "metadata": {},
   "outputs": [
    {
     "name": "stdout",
     "output_type": "stream",
     "text": [
      "1->2->3->4->30->5->6->7->None\n",
      "1->2->3->4->5->6->7->None\n"
     ]
    }
   ],
   "source": [
    "def deleteRecursive(head,i):\n",
    "    \n",
    "    if i<0:\n",
    "        return head\n",
    "    \n",
    "    if i==0:\n",
    "        head = head.next\n",
    "        return head\n",
    "    \n",
    "    if head is None:\n",
    "        return None\n",
    "    \n",
    "    smallHead = deleteRecursive(head.next,i-1)\n",
    "    head.next = smallHead\n",
    "    return head\n",
    "\n",
    "head = takeInput()\n",
    "printLL(head)\n",
    "deleteRecursive(head, 4)\n",
    "printLL(head)"
   ]
  },
  {
   "cell_type": "markdown",
   "metadata": {},
   "source": [
    "Reverse Recursively"
   ]
  },
  {
   "cell_type": "code",
   "execution_count": 32,
   "metadata": {},
   "outputs": [
    {
     "name": "stdout",
     "output_type": "stream",
     "text": [
      "1->2->3->4->5->6->7->None\n",
      "7->6->5->4->3->2->1->None\n"
     ]
    }
   ],
   "source": [
    "def reverseRecursive(head):\n",
    "    if head is None:\n",
    "        return None\n",
    "    \n",
    "    if head.next is None:\n",
    "        return head\n",
    "    \n",
    "    tail = head.next\n",
    "    smallHead = reverseRecursive(head.next)\n",
    "    # tail = smallHead                          #this method of getting to the tail has bad time complexity\n",
    "    # while tail.next is not None:\n",
    "    #     tail = tail.next\n",
    "    tail.next = head\n",
    "    head.next = None\n",
    "    return smallHead\n",
    "\n",
    "head = takeInput()\n",
    "printLL(head)\n",
    "head = reverseRecursive(head)\n",
    "printLL(head)"
   ]
  },
  {
   "cell_type": "markdown",
   "metadata": {},
   "source": [
    "LINKED LIST-2"
   ]
  },
  {
   "cell_type": "markdown",
   "metadata": {},
   "source": [
    "Reverse Iteratively"
   ]
  },
  {
   "cell_type": "code",
   "execution_count": 33,
   "metadata": {},
   "outputs": [
    {
     "name": "stdout",
     "output_type": "stream",
     "text": [
      "7->6->5->4->3->2->1->None\n",
      "1->2->3->4->5->6->7->None\n"
     ]
    }
   ],
   "source": [
    "def reverseIterative(head):\n",
    "    if head is None:\n",
    "        return None\n",
    "    \n",
    "    if head.next is None:\n",
    "        return head\n",
    "    \n",
    "    prev = None\n",
    "    curr = head\n",
    "    while curr is not None:\n",
    "        next = curr.next\n",
    "        curr.next = prev\n",
    "        prev = curr\n",
    "        curr = next\n",
    "\n",
    "    head  = prev\n",
    "    return head\n",
    "\n",
    "printLL(head)\n",
    "head = reverseIterative(head)\n",
    "printLL(head)"
   ]
  },
  {
   "cell_type": "markdown",
   "metadata": {},
   "source": [
    "Middle Element"
   ]
  },
  {
   "cell_type": "code",
   "execution_count": 34,
   "metadata": {},
   "outputs": [
    {
     "name": "stdout",
     "output_type": "stream",
     "text": [
      "1->2->3->4->5->6->7->None\n"
     ]
    },
    {
     "data": {
      "text/plain": [
       "4"
      ]
     },
     "execution_count": 34,
     "metadata": {},
     "output_type": "execute_result"
    }
   ],
   "source": [
    "def middle(head):\n",
    "    if head is None:\n",
    "        return None\n",
    "    if head.next is None:\n",
    "        return head\n",
    "    \n",
    "    length = int(getCount(head))\n",
    "    \n",
    "    fast = head\n",
    "    slow = head\n",
    "\n",
    "    if length%2!=0 :\n",
    "        while fast.next is not None:\n",
    "            fast = fast.next.next\n",
    "            slow = slow.next\n",
    "    else:\n",
    "        while fast.next.next is not None:\n",
    "            fast = fast.next.next\n",
    "            slow = slow.next\n",
    "    \n",
    "    return slow\n",
    "\n",
    "printLL(head)\n",
    "middleNode = middle(head)\n",
    "middleNode.data"
   ]
  },
  {
   "cell_type": "markdown",
   "metadata": {},
   "source": [
    "Merging Lists"
   ]
  },
  {
   "cell_type": "code",
   "execution_count": 36,
   "metadata": {},
   "outputs": [
    {
     "name": "stdout",
     "output_type": "stream",
     "text": [
      "1->2->3->4->5->6->7->None\n",
      "1->2->3->4->5->6->7->None\n",
      "1->2->3->4->5->6->7->8->9->10->11->12->13->None\n"
     ]
    }
   ],
   "source": [
    "def mergeLists(headA, headB):\n",
    " \n",
    "    dummyNode = Node(0)\n",
    " \n",
    "    tail = dummyNode\n",
    "    while True:\n",
    " \n",
    "        if headA is None:\n",
    "            tail.next = headB\n",
    "            break\n",
    "        if headB is None:\n",
    "            tail.next = headA\n",
    "            break\n",
    " \n",
    "        if headA.data <= headB.data:\n",
    "            tail.next = headA\n",
    "            headA = headA.next\n",
    "        else:\n",
    "            tail.next = headB\n",
    "            headB = headB.next\n",
    " \n",
    "        tail = tail.next\n",
    " \n",
    "    return dummyNode.next\n",
    "\n",
    "printLL(head)\n",
    "head1 = takeInput()\n",
    "printLL(head)\n",
    "mergedHead = mergeLists(head,head1)\n",
    "printLL(mergedHead)"
   ]
  },
  {
   "cell_type": "markdown",
   "metadata": {},
   "source": [
    "MERGE SORT"
   ]
  },
  {
   "cell_type": "code",
   "execution_count": 38,
   "metadata": {},
   "outputs": [
    {
     "name": "stdout",
     "output_type": "stream",
     "text": [
      "2->5->4->7->8->66->4->8->9->5->23->64->75->None\n",
      "2->4->4->5->5->7->8->8->9->23->64->66->75->None\n"
     ]
    }
   ],
   "source": [
    "def mergeSort(head):\n",
    "\n",
    "    if head is None:\n",
    "        return None\n",
    "    if head.next is None:\n",
    "        return head\n",
    "\n",
    "    mid = middle(head)\n",
    "    head2 = mid.next\n",
    "    mid.next = None\n",
    "    head1 = mergeSort(head)\n",
    "    head2 = mergeSort(head2)\n",
    "\n",
    "    return(mergeLists(head1,head2))\n",
    "\n",
    "head = takeInput()\n",
    "printLL(head)\n",
    "head = mergeSort(head)\n",
    "printLL(head)"
   ]
  },
  {
   "cell_type": "markdown",
   "metadata": {},
   "source": [
    "Finding"
   ]
  },
  {
   "cell_type": "code",
   "execution_count": 40,
   "metadata": {},
   "outputs": [
    {
     "name": "stdout",
     "output_type": "stream",
     "text": [
      "1->2->3->4->5->6->7->8->9->None\n",
      "7\n",
      "-1\n"
     ]
    }
   ],
   "source": [
    "def find(head,x):\n",
    "    if head is None:\n",
    "        return -1\n",
    "    if head.data == x:\n",
    "        return 0\n",
    "    if head.next is None:\n",
    "        return -1\n",
    "    pos = 0\n",
    "    while head:\n",
    "            if head.data == x:\n",
    "                return pos\n",
    "            head = head.next\n",
    "            pos = pos + 1\n",
    " \n",
    "    return -1\n",
    "\n",
    "head = takeInput()\n",
    "printLL(head)\n",
    "print(find(head,8))\n",
    "print(find(head,60))"
   ]
  },
  {
   "cell_type": "markdown",
   "metadata": {},
   "source": [
    "Even After Odd"
   ]
  },
  {
   "cell_type": "code",
   "execution_count": 41,
   "metadata": {},
   "outputs": [
    {
     "name": "stdout",
     "output_type": "stream",
     "text": [
      "1->2->3->4->5->6->7->8->9->None\n",
      "1->3->5->7->9->2->4->6->8->None\n"
     ]
    }
   ],
   "source": [
    "def evenAfterOdd(head):\n",
    "    if head is None:\n",
    "        return None\n",
    "    if head.next is None:\n",
    "        return head\n",
    "    \n",
    "    odd = Node(0)\n",
    "    oddt = odd\n",
    "    even = Node(0)\n",
    "    event = even\n",
    "\n",
    "    while head is not None:\n",
    "        if head.data%2==0:\n",
    "            event.next = head\n",
    "            event = event.next\n",
    "            \n",
    "            \n",
    "        elif head.data%2!=0:\n",
    "            oddt.next = head\n",
    "            oddt = oddt.next\n",
    "        head = head.next\n",
    "            \n",
    "    oddt.next = even.next\n",
    "    event.next = None\n",
    "\n",
    "    return odd.next\n",
    "\n",
    "printLL(head)\n",
    "head = evenAfterOdd(head)\n",
    "printLL(head)"
   ]
  },
  {
   "cell_type": "markdown",
   "metadata": {},
   "source": [
    "Retain \"m\" and Delete \"n\""
   ]
  },
  {
   "cell_type": "code",
   "execution_count": 42,
   "metadata": {},
   "outputs": [
    {
     "name": "stdout",
     "output_type": "stream",
     "text": [
      "1->2->3->4->5->6->7->8->9->10->None\n",
      "1->2->6->7->None\n"
     ]
    }
   ],
   "source": [
    "def retain_m_delete_n(head,m,n):\n",
    "    curr = head\n",
    "    \n",
    "    while curr:\n",
    "        for count in range(1,m):\n",
    "            if curr is None:\n",
    "                return\n",
    "            curr = curr.next\n",
    "\n",
    "        if curr is None:\n",
    "            return\n",
    "\n",
    "        t = curr.next\n",
    "        for count in range(1,n+1):\n",
    "            if t is None:\n",
    "                curr.next = None\n",
    "                return\n",
    "            t = t.next\n",
    "\n",
    "        curr.next = t\n",
    "        curr = t    \n",
    "\n",
    "head = takeInput()\n",
    "printLL(head)\n",
    "retain_m_delete_n(head,2,3)\n",
    "printLL(head)"
   ]
  }
 ],
 "metadata": {
  "kernelspec": {
   "display_name": "Python 3",
   "language": "python",
   "name": "python3"
  },
  "language_info": {
   "codemirror_mode": {
    "name": "ipython",
    "version": 3
   },
   "file_extension": ".py",
   "mimetype": "text/x-python",
   "name": "python",
   "nbconvert_exporter": "python",
   "pygments_lexer": "ipython3",
   "version": "3.10.11"
  },
  "orig_nbformat": 4
 },
 "nbformat": 4,
 "nbformat_minor": 2
}
