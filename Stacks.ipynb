{
 "cells": [
  {
   "cell_type": "markdown",
   "metadata": {},
   "source": [
    "Stack Using Array"
   ]
  },
  {
   "cell_type": "code",
   "execution_count": 1,
   "metadata": {},
   "outputs": [],
   "source": [
    "class Stack:\n",
    "\n",
    "    def __init__(self):\n",
    "        self.__data = []\n",
    "    \n",
    "    def push(self,item):\n",
    "        self.__data.append(item)\n",
    "\n",
    "    def pop(self):\n",
    "        if self.isEmpty():\n",
    "            print(\"Hey! Stack is empty\")\n",
    "            return\n",
    "        return self.data.pop()\n",
    "    \n",
    "    def top(self):\n",
    "        if self.isEmpty():\n",
    "            print(\"Hey! Stack is empty\")\n",
    "            return\n",
    "        return self.__data[-1]\n",
    "    \n",
    "    def size(self):\n",
    "        return len(self.__data)\n",
    "    \n",
    "    def isEmpty(self):\n",
    "        return self.size()==0"
   ]
  },
  {
   "cell_type": "markdown",
   "metadata": {},
   "source": [
    "Stack Using Linked List"
   ]
  },
  {
   "cell_type": "code",
   "execution_count": 2,
   "metadata": {},
   "outputs": [],
   "source": [
    "class Node:\n",
    "\n",
    "    def __init__(self,initData):\n",
    "        self.data = initData\n",
    "        self.next = None\n",
    "\n",
    "class Stack:\n",
    "\n",
    "    def __init__(self):\n",
    "        self.__head = None\n",
    "        self.__count = 0\n",
    "\n",
    "    def push(self,item):                        #pushing the new element in the front of linked list making it the new head\n",
    "        newNode = Node(item)\n",
    "        newNode.next = self.__head\n",
    "        self.__head = newNode\n",
    "        self.__count = self.__count+1\n",
    "\n",
    "    def pop(self):\n",
    "        if self.isEmpty()==True:\n",
    "            print(\"Hey! Stack is empty\")\n",
    "            return\n",
    "        data = self.__head.data\n",
    "        self.__head = self.__head.next\n",
    "        self.__count = self.__count-1\n",
    "        return data\n",
    "    \n",
    "    def top(self):\n",
    "        if self.isEmpty()==True:\n",
    "            print(\"Hey! Stack is empty\")\n",
    "            return\n",
    "        data = self.__head.data\n",
    "        return data\n",
    "    \n",
    "    def size(self):\n",
    "        return self.__count\n",
    "    \n",
    "    def isEmpty(self):\n",
    "        return self.size() == 0"
   ]
  },
  {
   "cell_type": "markdown",
   "metadata": {},
   "source": [
    "Inbuilt Queue"
   ]
  },
  {
   "cell_type": "code",
   "execution_count": 3,
   "metadata": {},
   "outputs": [
    {
     "name": "stdout",
     "output_type": "stream",
     "text": [
      "1\n",
      "2\n",
      "3\n",
      "4\n",
      "4\n",
      "3\n",
      "2\n",
      "1\n"
     ]
    }
   ],
   "source": [
    "import queue\n",
    "\n",
    "q = queue.Queue()\n",
    "q.put(1)                #adding elements to queue\n",
    "q.put(2)\n",
    "q.put(3)\n",
    "q.put(4)\n",
    "\n",
    "while not q.empty():\n",
    "    print(q.get())      #printing and deleting the first element of the queue\n",
    "\n",
    "#Stack using queue library\n",
    "\n",
    "q = queue.LifoQueue()\n",
    "q.put(1)                #adding elements to stack\n",
    "q.put(2)\n",
    "q.put(3)\n",
    "q.put(4)\n",
    "\n",
    "while not q.empty():\n",
    "    print(q.get())      #printing and deleting the top element of the stack"
   ]
  },
  {
   "cell_type": "markdown",
   "metadata": {},
   "source": [
    "Balanced Paranthesis"
   ]
  },
  {
   "cell_type": "code",
   "execution_count": 4,
   "metadata": {},
   "outputs": [
    {
     "name": "stdout",
     "output_type": "stream",
     "text": [
      "True\n",
      "False\n"
     ]
    }
   ],
   "source": [
    "def isBalanced(string):\n",
    "\n",
    "    s=[]\n",
    "\n",
    "    for char in string:\n",
    "\n",
    "        if char in \"{[(\":\n",
    "            s.append(char)\n",
    "        elif char == \"]\":\n",
    "            if len(s)==0 or s[-1]!='[':\n",
    "                return False\n",
    "            s.pop()\n",
    "\n",
    "        elif char == \"}\":\n",
    "            if len(s)==0 or s[-1]!='{':\n",
    "                return False\n",
    "            s.pop()\n",
    "\n",
    "        elif char == \")\":\n",
    "            if len(s)==0 or s[-1]!='(':\n",
    "                return False\n",
    "            s.pop()\n",
    "\n",
    "    if len(s)==0:\n",
    "        return True\n",
    "    return False\n",
    "\n",
    "print(isBalanced(\"{abc(def)gh[ij]}\"))\n",
    "print(isBalanced(\"{abc(defgh[ij]}\"))"
   ]
  },
  {
   "cell_type": "markdown",
   "metadata": {},
   "source": [
    "Reverse a Stack using a Helper Stack"
   ]
  },
  {
   "cell_type": "code",
   "execution_count": 7,
   "metadata": {},
   "outputs": [
    {
     "name": "stdout",
     "output_type": "stream",
     "text": [
      "[7, 6, 5, 4, 3, 2, 1]\n"
     ]
    }
   ],
   "source": [
    "def reverseStack(s1,s2):            #reversing s1 stack using Helper \"s2\" stack\n",
    "\n",
    "    if len(s1)<=1:\n",
    "        return\n",
    "\n",
    "    while len(s1) != 1:\n",
    "        ele = s1.pop()\n",
    "        s2.append(ele)\n",
    "\n",
    "    lastElement = s1.pop()\n",
    "    \n",
    "    while len(s2)!=0:\n",
    "        ele = s2.pop()\n",
    "        s1.append(ele)\n",
    "\n",
    "    reverseStack(s1,s2)\n",
    "    s1.append(lastElement)\n",
    "\n",
    "s = [1,2,3,4,5,6,7]\n",
    "t = []\n",
    "\n",
    "reverseStack(s,t)\n",
    "print(s)"
   ]
  },
  {
   "cell_type": "markdown",
   "metadata": {},
   "source": [
    "Redundant Brackets"
   ]
  },
  {
   "cell_type": "code",
   "execution_count": 12,
   "metadata": {},
   "outputs": [
    {
     "name": "stdout",
     "output_type": "stream",
     "text": [
      "true\n"
     ]
    }
   ],
   "source": [
    "import queue\n",
    "\n",
    "def checkRedundant(string):\n",
    "    q=queue.LifoQueue()\n",
    "    temp=0\n",
    "    l=len(string)\n",
    "    for i in range(l-1):\n",
    "        c=string[i]\n",
    "        n=string[i+1]\n",
    "        if c=='(' and n==')':\n",
    "            return True\n",
    "        elif c=='(' and n=='(':\n",
    "            temp=2\n",
    "        elif c==')' and n==')' and temp==2:\n",
    "            return True\n",
    "    return False\n",
    "#### Implement Your Code Here\n",
    "    \n",
    "\n",
    "string = \"(a+((b))\"\n",
    "ans = checkRedundant(string)\n",
    "if ans is True:\n",
    "    print('true')\n",
    "else:\n",
    "    print('false')\n"
   ]
  },
  {
   "cell_type": "markdown",
   "metadata": {},
   "source": [
    "Stock Span"
   ]
  },
  {
   "cell_type": "code",
   "execution_count": 13,
   "metadata": {},
   "outputs": [
    {
     "name": "stdout",
     "output_type": "stream",
     "text": [
      "[1, 1, 1, 2, 1, 4, 6]\n"
     ]
    }
   ],
   "source": [
    "def stockSpan(l):\n",
    "    s=[]\n",
    "    for i in range(0,len(l)):\n",
    "        if i == 0:\n",
    "            s.append(1)\n",
    "        else:\n",
    "            count = 1\n",
    "            j = i-1\n",
    "            while j >=0 :\n",
    "                if l[j]<l[i]:\n",
    "                    count = count+1\n",
    "                else:\n",
    "                    break\n",
    "                j = j-1\n",
    "            s.append(count)\n",
    "\n",
    "    return s\n",
    "\n",
    "print(stockSpan([100,80,60,70,60,75,85]))"
   ]
  }
 ],
 "metadata": {
  "kernelspec": {
   "display_name": "Python 3",
   "language": "python",
   "name": "python3"
  },
  "language_info": {
   "codemirror_mode": {
    "name": "ipython",
    "version": 3
   },
   "file_extension": ".py",
   "mimetype": "text/x-python",
   "name": "python",
   "nbconvert_exporter": "python",
   "pygments_lexer": "ipython3",
   "version": "3.10.11"
  },
  "orig_nbformat": 4
 },
 "nbformat": 4,
 "nbformat_minor": 2
}
