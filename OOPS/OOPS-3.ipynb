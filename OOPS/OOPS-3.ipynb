{
 "cells": [
  {
   "cell_type": "markdown",
   "metadata": {},
   "source": [
    "ABSTRACT CLASSES"
   ]
  },
  {
   "cell_type": "code",
   "execution_count": 1,
   "metadata": {},
   "outputs": [],
   "source": [
    "from abc import ABC,abstractclassmethod\n",
    "\n",
    "class Automobile(ABC):\n",
    "\n",
    "    @abstractclassmethod\n",
    "    def start(self):\n",
    "        pass\n",
    "\n",
    "    @abstractclassmethod\n",
    "    def stop(self):\n",
    "        pass\n",
    "\n",
    "    @abstractclassmethod\n",
    "    def drive(self):\n",
    "        pass\n",
    "\n",
    "class Car(Automobile):\n",
    "\n",
    "    def __init__(self,name):\n",
    "        self.name = name\n",
    "\n",
    "    def start(self):\n",
    "        pass\n",
    "\n",
    "    def stop(self):\n",
    "        pass\n",
    "\n",
    "    def drive(self):\n",
    "        pass\n",
    "\n",
    "c = Car(\"Honda\")"
   ]
  },
  {
   "cell_type": "markdown",
   "metadata": {},
   "source": [
    "EXCEPTION HANDLING"
   ]
  },
  {
   "cell_type": "code",
   "execution_count": 2,
   "metadata": {},
   "outputs": [
    {
     "name": "stdout",
     "output_type": "stream",
     "text": [
      "Numerator and Denominator should not be 0\n",
      "1.0\n"
     ]
    }
   ],
   "source": [
    "while True:\n",
    "    try:\n",
    "        n = input(\"Enter the numerator: \")\n",
    "        num = int(n)\n",
    "        n = input(\"Enter the Denominator: \")\n",
    "        den = int(n)\n",
    "        if den == 0:\n",
    "            raise ZeroDivisionError\n",
    "        value = num/den\n",
    "        print(value)\n",
    "        break\n",
    "    except:\n",
    "        print(\"Numerator and Denominator should not be 0\")"
   ]
  },
  {
   "cell_type": "markdown",
   "metadata": {},
   "source": [
    "CREATING OWN EXCEPTION/ERROR"
   ]
  },
  {
   "cell_type": "code",
   "execution_count": 3,
   "metadata": {},
   "outputs": [
    {
     "name": "stdout",
     "output_type": "stream",
     "text": [
      "Numerator and Denominator should not be 0\n",
      "Exception may or may not be raised\n",
      "1.0\n",
      "Exception may or may not be raised\n"
     ]
    }
   ],
   "source": [
    "class ZeroDenominatorError(Exception):\n",
    "    pass\n",
    "while True:\n",
    "    try:\n",
    "        n = input(\"Enter the numerator: \")\n",
    "        num = int(n)\n",
    "        n = input(\"Enter the Denominator: \")\n",
    "        den = int(n)\n",
    "        if den == 0:\n",
    "            raise ZeroDenominatorError\n",
    "        value = num/den\n",
    "    except:                                                        #this code will execute only if there is no exception         \n",
    "        print(\"Numerator and Denominator should not be 0\")\n",
    "    else:\n",
    "        print(value)\n",
    "        break\n",
    "    finally:                                                        #this code will be executed irrespective of the fact that the esception has occured or not\n",
    "        print(\"Exception may or may not be raised\")"
   ]
  }
 ],
 "metadata": {
  "kernelspec": {
   "display_name": "Python 3",
   "language": "python",
   "name": "python3"
  },
  "language_info": {
   "codemirror_mode": {
    "name": "ipython",
    "version": 3
   },
   "file_extension": ".py",
   "mimetype": "text/x-python",
   "name": "python",
   "nbconvert_exporter": "python",
   "pygments_lexer": "ipython3",
   "version": "3.10.11"
  },
  "orig_nbformat": 4
 },
 "nbformat": 4,
 "nbformat_minor": 2
}
