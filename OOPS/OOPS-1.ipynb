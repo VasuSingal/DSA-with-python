{
 "cells": [
  {
   "cell_type": "code",
   "execution_count": 1,
   "metadata": {},
   "outputs": [
    {
     "name": "stdout",
     "output_type": "stream",
     "text": [
      "{'name': 'Vasu', 'rollNumber': 139}\n",
      "True\n"
     ]
    }
   ],
   "source": [
    "class Student:\n",
    "    pass\n",
    "\n",
    "s1 = Student()\n",
    "\n",
    "s1.name = \"Vasu\"\n",
    "s1.rollNumber = 139\n",
    "\n",
    "print(s1.__dict__)\n",
    "\n",
    "print(hasattr(s1,\"name\"))"
   ]
  },
  {
   "cell_type": "markdown",
   "metadata": {},
   "source": [
    "Static Method"
   ]
  },
  {
   "cell_type": "code",
   "execution_count": 2,
   "metadata": {},
   "outputs": [
    {
     "name": "stdout",
     "output_type": "stream",
     "text": [
      "Name =  Vasu\n",
      "Percentage =  80\n",
      "pass\n",
      "Hey, Welcome to school!!\n"
     ]
    }
   ],
   "source": [
    "class Student:\n",
    "\n",
    "    passingPercentage = 40                                  #class attribute\n",
    "\n",
    "    def studentDetails(self):\n",
    "        self.name = \"Vasu\"                                  #instance attribute\n",
    "        self.percentage = 80\n",
    "        print(\"Name = \", self.name)\n",
    "        print(\"Percentage = \", self.percentage)\n",
    "        pass\n",
    "\n",
    "    def isPassed(self):\n",
    "        if self.percentage>= self.passingPercentage:\n",
    "            print(\"pass\")\n",
    "        else:\n",
    "            print(\"Fail\")\n",
    "        pass\n",
    "\n",
    "    @staticmethod                                           #static method(function)- by default self passed in the functons is ignored\n",
    "    def welcomeToSchool():\n",
    "        print(\"Hey, Welcome to school!!\")\n",
    "\n",
    "s1 =Student()                                               #creating an object\n",
    "s1.studentDetails()                                         #using the function in the class to add the instance attributes\n",
    "s1.isPassed()\n",
    "s1.welcomeToSchool()"
   ]
  },
  {
   "cell_type": "markdown",
   "metadata": {},
   "source": [
    "__init__ Method"
   ]
  },
  {
   "cell_type": "code",
   "execution_count": 3,
   "metadata": {},
   "outputs": [],
   "source": [
    "class Student:\n",
    "    def __init__(self, name, rollNumber):                  #__init__ function doesn't have to be called\n",
    "        self.name = name\n",
    "        self.rollNumber = rollNumber\n",
    "        pass\n",
    "\n",
    "    @staticmethod                                         \n",
    "    def welcome():\n",
    "        print(\"Welcome!!\")\n",
    "\n",
    "s1 = Student(\"Vasu\", 20)"
   ]
  },
  {
   "cell_type": "markdown",
   "metadata": {},
   "source": [
    "Class Method"
   ]
  },
  {
   "cell_type": "code",
   "execution_count": 4,
   "metadata": {},
   "outputs": [],
   "source": [
    "from datetime import date\n",
    "\n",
    "class Student:                                                  #do not run the code as the function in class method has object created with enteries of name age and percentage but we dont ahve any class with these enteries\n",
    "    def __init__(self, name, rollNumber):                 \n",
    "        self.name = name\n",
    "        self.rollNumber = rollNumber\n",
    "        pass\n",
    "\n",
    "    @classmethod                                                #used to create a function which reeturns an object in the specified class using the specific entries required\n",
    "    def fromBirthYear(cls, name, year, percentage):\n",
    "        return cls(name, date.today().year-year,percentage)"
   ]
  },
  {
   "cell_type": "markdown",
   "metadata": {},
   "source": [
    "Fractions Class"
   ]
  },
  {
   "cell_type": "code",
   "execution_count": 5,
   "metadata": {},
   "outputs": [
    {
     "name": "stdout",
     "output_type": "stream",
     "text": [
      "3 / 5\n"
     ]
    }
   ],
   "source": [
    "class Fraction:\n",
    "    def __init__(self, num = 0, den = 1):\n",
    "        self.num = num\n",
    "        self.den = den\n",
    "    \n",
    "    def print(self):\n",
    "        if self.num==0:\n",
    "            print (0)\n",
    "        elif self.den==1:\n",
    "            print(self.num)\n",
    "        else:\n",
    "            print(self.num, \"/\", self.den)\n",
    "\n",
    "    def simplify(self):\n",
    "        if self.num==0:\n",
    "            self.den=1\n",
    "            return\n",
    "        current = min(self.den,self.num)\n",
    "        while current>1:\n",
    "            if self.num%current == 0 and self.den%current == 0:\n",
    "                break\n",
    "            current = current -1\n",
    "        self.den = self.den//current\n",
    "        self.num = self.num//current\n",
    "\n",
    "    def add(self,otherFraction):\n",
    "        newNum = (otherFraction.den*self.num)+(otherFraction.num*self.den)\n",
    "        newDen = (otherFraction.den*self.den)\n",
    "\n",
    "        self.num = newNum\n",
    "        self.den = newDen\n",
    "        self.simplify()\n",
    "\n",
    "    def multiply(self,otherFraction):\n",
    "        newNum = otherFraction.num*self.num\n",
    "        newDen = otherFraction.den*self.den\n",
    "\n",
    "        self.num = newNum\n",
    "        self.den = newDen\n",
    "        self.simplify()\n",
    "\n",
    "f1 = Fraction(2,5)\n",
    "f2 = Fraction(3,2)\n",
    "\n",
    "f1.multiply(f2)\n",
    "\n",
    "f1.print()"
   ]
  },
  {
   "cell_type": "markdown",
   "metadata": {},
   "source": [
    "Complex Numbers Class"
   ]
  },
  {
   "cell_type": "code",
   "execution_count": 6,
   "metadata": {},
   "outputs": [
    {
     "name": "stdout",
     "output_type": "stream",
     "text": [
      "5 + 31 i\n"
     ]
    }
   ],
   "source": [
    "class Complex:\n",
    "    def __init__(self, real=0, img=0):\n",
    "        self.real = real\n",
    "        self.img = img\n",
    "        \n",
    "    def print(self):\n",
    "        if self.real == 0 and self.img == 0:\n",
    "            return(0)\n",
    "        elif self.real ==0 and self.img!=0:\n",
    "            print(self.img,\"i\")\n",
    "        elif self.real!=0 and self.img==0:\n",
    "            print(self.real)\n",
    "        else:\n",
    "            print(self.real, \"+\", self.img, \"i\")\n",
    "\n",
    "    def add(self, otherComplex):\n",
    "        newReal = self.real + otherComplex.real\n",
    "        newImg = self.img + otherComplex.img\n",
    "\n",
    "        self.real = newReal\n",
    "        self.img = newImg\n",
    "        self.print()\n",
    "\n",
    "    def multiply(self,otherComplex):\n",
    "        newReal = (self.real*otherComplex.real)-(self.img*otherComplex.img)\n",
    "        newImg = (self.real*otherComplex.img)+(self.img*otherComplex.real)\n",
    "\n",
    "        self.real = newReal\n",
    "        self.img = newImg\n",
    "        self.print()\n",
    "\n",
    "c1 = Complex(5,2)\n",
    "c2 = Complex(3,5)\n",
    "\n",
    "c1.multiply(c2)"
   ]
  }
 ],
 "metadata": {
  "kernelspec": {
   "display_name": "Python 3",
   "language": "python",
   "name": "python3"
  },
  "language_info": {
   "codemirror_mode": {
    "name": "ipython",
    "version": 3
   },
   "file_extension": ".py",
   "mimetype": "text/x-python",
   "name": "python",
   "nbconvert_exporter": "python",
   "pygments_lexer": "ipython3",
   "version": "3.10.11"
  },
  "orig_nbformat": 4
 },
 "nbformat": 4,
 "nbformat_minor": 2
}
