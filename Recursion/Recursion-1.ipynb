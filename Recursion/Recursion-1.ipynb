{
 "cells": [
  {
   "cell_type": "code",
   "execution_count": 1,
   "metadata": {},
   "outputs": [
    {
     "data": {
      "text/plain": [
       "120"
      ]
     },
     "execution_count": 1,
     "metadata": {},
     "output_type": "execute_result"
    }
   ],
   "source": [
    "def fact(n):\n",
    "    if n==0:\n",
    "        return 1\n",
    "    return n*fact(n-1)\n",
    "\n",
    "fact(5)"
   ]
  },
  {
   "cell_type": "code",
   "execution_count": 2,
   "metadata": {},
   "outputs": [
    {
     "data": {
      "text/plain": [
       "78125"
      ]
     },
     "execution_count": 2,
     "metadata": {},
     "output_type": "execute_result"
    }
   ],
   "source": [
    "def power(x,n):\n",
    "    if n==0:\n",
    "        return 1\n",
    "    return x*power(x,n-1)\n",
    "\n",
    "power(5,7)"
   ]
  },
  {
   "cell_type": "code",
   "execution_count": 3,
   "metadata": {},
   "outputs": [
    {
     "name": "stdout",
     "output_type": "stream",
     "text": [
      "1\n",
      "2\n",
      "3\n",
      "4\n",
      "5\n",
      "6\n",
      "7\n",
      "8\n"
     ]
    }
   ],
   "source": [
    "def print_1_to_n(n):\n",
    "    if n==0:\n",
    "        return\n",
    "    print_1_to_n(n-1)\n",
    "    print(n)\n",
    "\n",
    "print_1_to_n(8)"
   ]
  },
  {
   "cell_type": "code",
   "execution_count": 4,
   "metadata": {},
   "outputs": [
    {
     "name": "stdout",
     "output_type": "stream",
     "text": [
      "8\n",
      "7\n",
      "6\n",
      "5\n",
      "4\n",
      "3\n",
      "2\n",
      "1\n"
     ]
    }
   ],
   "source": [
    "def print_n_to_1(n):\n",
    "    if n==0:\n",
    "        return\n",
    "    print(n)                    # I want n to print before calling the next fucntion only then the count will be reversed\n",
    "    print_n_to_1(n-1)\n",
    "\n",
    "print_n_to_1(8)"
   ]
  },
  {
   "cell_type": "code",
   "execution_count": 12,
   "metadata": {},
   "outputs": [
    {
     "name": "stdout",
     "output_type": "stream",
     "text": [
      "3\n"
     ]
    }
   ],
   "source": [
    "def fibonnaci(n):               #this function prints the nth term of series.// Use iterative method for better solution\n",
    "    if n==1 or n==2:            # two base cases required coz it is sum of two numbers\n",
    "        return 1\n",
    "    return fibonnaci(n-1)+fibonnaci(n-2)\n",
    "\n",
    "print(fibonnaci(4))"
   ]
  },
  {
   "cell_type": "code",
   "execution_count": 13,
   "metadata": {},
   "outputs": [
    {
     "data": {
      "text/plain": [
       "False"
      ]
     },
     "execution_count": 13,
     "metadata": {},
     "output_type": "execute_result"
    }
   ],
   "source": [
    "def isSorted(a):               # isSortedBetter is also a way to check if the array is sorted or not\n",
    "    l = len(a)\n",
    "    if l==0 or l==1:\n",
    "        return True\n",
    "    elif a[0]>a[1]:\n",
    "        return False\n",
    "    else:\n",
    "        a.pop(0)\n",
    "        return isSorted(a)\n",
    "    \n",
    "isSorted([5,9,3,7,6,1,4])"
   ]
  },
  {
   "cell_type": "code",
   "execution_count": 15,
   "metadata": {},
   "outputs": [
    {
     "data": {
      "text/plain": [
       "15"
      ]
     },
     "execution_count": 15,
     "metadata": {},
     "output_type": "execute_result"
    }
   ],
   "source": [
    "def sum_of_list(a):                     #gives the sum of all the elements in the list\n",
    "    l = len(a)\n",
    "    if l==1:\n",
    "        return a[0]\n",
    "    else:\n",
    "        return a.pop(0)+sum_of_n(a)\n",
    "    \n",
    "sum_of_list([1,2,5,4,3])"
   ]
  },
  {
   "cell_type": "code",
   "execution_count": 16,
   "metadata": {},
   "outputs": [
    {
     "data": {
      "text/plain": [
       "True"
      ]
     },
     "execution_count": 16,
     "metadata": {},
     "output_type": "execute_result"
    }
   ],
   "source": [
    "def check_number(a,n):\n",
    "    if a[0]==n:\n",
    "        return True\n",
    "    a.pop(0)\n",
    "    return check_number(a,n)\n",
    "\n",
    "check_number([1,2,5,3,6,8,77,9,44],9)"
   ]
  },
  {
   "cell_type": "code",
   "execution_count": 17,
   "metadata": {},
   "outputs": [
    {
     "data": {
      "text/plain": [
       "False"
      ]
     },
     "execution_count": 17,
     "metadata": {},
     "output_type": "execute_result"
    }
   ],
   "source": [
    "def isSortedBetter(a,si=0):               # using start index use preserve the original array whereas in the method above we end up deleting the array\n",
    "    l = len(a)\n",
    "    if si==l-1 or si==l:\n",
    "        return True\n",
    "    elif a[si]>a[si+1]:\n",
    "        return False\n",
    "    return isSortedBetter(a,si+1)\n",
    "\n",
    "isSortedBetter([5,9,3,7,6,1,4],0)"
   ]
  },
  {
   "cell_type": "code",
   "execution_count": 20,
   "metadata": {},
   "outputs": [
    {
     "data": {
      "text/plain": [
       "4"
      ]
     },
     "execution_count": 20,
     "metadata": {},
     "output_type": "execute_result"
    }
   ],
   "source": [
    "def firstIndex(a,x):                        #more space is required in this method because the list is getting copied and very time a new list is created\n",
    "    l = len(a)\n",
    "    if l==0:\n",
    "        return -1\n",
    "    if a[0]==x:\n",
    "        return 0\n",
    "    if firstIndex(a[1:],x)==-1:             #a[1:] creates a new list by coping \n",
    "        return -1\n",
    "    else:\n",
    "        return firstIndex(a[1:],x)+1\n",
    "    \n",
    "firstIndex([5,9,3,7,6,1,4,6],6)"
   ]
  },
  {
   "cell_type": "code",
   "execution_count": 21,
   "metadata": {},
   "outputs": [
    {
     "data": {
      "text/plain": [
       "4"
      ]
     },
     "execution_count": 21,
     "metadata": {},
     "output_type": "execute_result"
    }
   ],
   "source": [
    "def betterFirstIndex(a,x,si=0):               # here we don't copy the list again n again instead use the same list with different start index\n",
    "    l = len(a)\n",
    "    if si==l:                               #if start index is same as length, that means list has ended and we have nothing to FIND FROM\n",
    "        return -1\n",
    "    if a[si]==x:                            #if at start index the value is same as the requested value we return the start index\n",
    "        return si\n",
    "    else:\n",
    "        return betterFirstIndex(a,x,si+1)\n",
    "    \n",
    "betterFirstIndex([5,9,3,7,6,1,4,6],6)"
   ]
  },
  {
   "cell_type": "code",
   "execution_count": 22,
   "metadata": {},
   "outputs": [
    {
     "data": {
      "text/plain": [
       "8"
      ]
     },
     "execution_count": 22,
     "metadata": {},
     "output_type": "execute_result"
    }
   ],
   "source": [
    "def lastIndex(a,x):\n",
    "    l = len(a)\n",
    "    if l==0:\n",
    "        return -1\n",
    "    if lastIndex(a[1:],x)!=-1:\n",
    "        return lastIndex(a[1:],x)+1\n",
    "    else:\n",
    "        if a[0]==x:\n",
    "            return 0\n",
    "        else:\n",
    "            return -1\n",
    "        \n",
    "lastIndex([1,2,3,5,9,7,6,1,2,3],2)"
   ]
  },
  {
   "cell_type": "code",
   "execution_count": 23,
   "metadata": {},
   "outputs": [
    {
     "name": "stdout",
     "output_type": "stream",
     "text": [
      "6\n"
     ]
    }
   ],
   "source": [
    "def betterLastIndex(a,x,si=0):\n",
    "    l=len(a)\n",
    "    if si==l:\n",
    "        return -1\n",
    "    if betterLastIndex(a,x,si+1)!=-1:\n",
    "        return betterLastIndex(a,x,si+1)\n",
    "    else:\n",
    "        if a[si]==x:\n",
    "            return si\n",
    "        else:\n",
    "            return -1\n",
    "\n",
    "b = [1,2,3,4,3,7,3]\n",
    "\n",
    "print(betterLastIndex(b,3))"
   ]
  }
 ],
 "metadata": {
  "kernelspec": {
   "display_name": "Python 3",
   "language": "python",
   "name": "python3"
  },
  "language_info": {
   "codemirror_mode": {
    "name": "ipython",
    "version": 3
   },
   "file_extension": ".py",
   "mimetype": "text/x-python",
   "name": "python",
   "nbconvert_exporter": "python",
   "pygments_lexer": "ipython3",
   "version": "3.10.11"
  },
  "orig_nbformat": 4
 },
 "nbformat": 4,
 "nbformat_minor": 2
}
