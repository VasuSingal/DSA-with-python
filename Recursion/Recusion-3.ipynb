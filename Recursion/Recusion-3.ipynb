{
 "cells": [
  {
   "cell_type": "code",
   "execution_count": 1,
   "metadata": {},
   "outputs": [
    {
     "data": {
      "text/plain": [
       "1.75"
      ]
     },
     "execution_count": 1,
     "metadata": {},
     "output_type": "execute_result"
    }
   ],
   "source": [
    "def sum_of_gp(n):                              #finding the sum of gp \n",
    "    if n==1:                                   #n is not the number of terms but the power of 2\n",
    "        return 1.5                             #for n to be the number of terms change 1.5 to 1\n",
    "    output = (1/2**(n))+sum_of_gp(n-1)\n",
    "    return output\n",
    "\n",
    "sum_of_gp(2)"
   ]
  },
  {
   "cell_type": "code",
   "execution_count": 3,
   "metadata": {},
   "outputs": [
    {
     "data": {
      "text/plain": [
       "'Yes'"
      ]
     },
     "execution_count": 3,
     "metadata": {},
     "output_type": "execute_result"
    }
   ],
   "source": [
    "def pallindrome(s,si,ei):                       #check if the entered string is a pallindrome or not\n",
    "    if si==ei:                                   \n",
    "        return \"Yes\"    \n",
    "    if len(s)%2==0:                             #if the length of the string is even then the string cannot be a pallindrome\n",
    "        return \"No\"\n",
    "    else:\n",
    "        if s[si]==s[ei]:\n",
    "            return pallindrome(s,si+1,ei-1)\n",
    "        else:\n",
    "            return \"No\"\n",
    "        \n",
    "pallindrome(\"naman\",0,4)"
   ]
  },
  {
   "cell_type": "code",
   "execution_count": 4,
   "metadata": {},
   "outputs": [
    {
     "data": {
      "text/plain": [
       "25"
      ]
     },
     "execution_count": 4,
     "metadata": {},
     "output_type": "execute_result"
    }
   ],
   "source": [
    "def sumOfDigits(n,si,ei):\n",
    "    if si>=ei:\n",
    "        return int(n[si])\n",
    "    return int(n[si])+sumOfDigits(n,si+1,ei)\n",
    "\n",
    "sumOfDigits([1,2,3,5,8,6],0,5)"
   ]
  },
  {
   "cell_type": "code",
   "execution_count": 5,
   "metadata": {},
   "outputs": [
    {
     "data": {
      "text/plain": [
       "5158720"
      ]
     },
     "execution_count": 5,
     "metadata": {},
     "output_type": "execute_result"
    }
   ],
   "source": [
    "def multiplication(a,b):\n",
    "    if a==1:\n",
    "        return b\n",
    "    if b==1:\n",
    "        return a\n",
    "    return a + multiplication(a,b-1)\n",
    "\n",
    "multiplication(7520,686)"
   ]
  },
  {
   "cell_type": "code",
   "execution_count": 6,
   "metadata": {},
   "outputs": [
    {
     "data": {
      "text/plain": [
       "5"
      ]
     },
     "execution_count": 6,
     "metadata": {},
     "output_type": "execute_result"
    }
   ],
   "source": [
    "def countZeros(n):\n",
    "    if n//10 == 0 and n!=0:\n",
    "        return 0\n",
    "    if n==0:\n",
    "        return 1\n",
    "    ans = countZeros(n//10)\n",
    "    if n%10 == 0:\n",
    "        return ans+1\n",
    "    return ans\n",
    "\n",
    "countZeros(5304860441000)"
   ]
  }
 ],
 "metadata": {
  "kernelspec": {
   "display_name": "Python 3",
   "language": "python",
   "name": "python3"
  },
  "language_info": {
   "codemirror_mode": {
    "name": "ipython",
    "version": 3
   },
   "file_extension": ".py",
   "mimetype": "text/x-python",
   "name": "python",
   "nbconvert_exporter": "python",
   "pygments_lexer": "ipython3",
   "version": "3.10.11"
  },
  "orig_nbformat": 4
 },
 "nbformat": 4,
 "nbformat_minor": 2
}
