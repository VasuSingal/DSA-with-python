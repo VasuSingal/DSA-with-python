{
 "cells": [
  {
   "cell_type": "code",
   "execution_count": 1,
   "metadata": {},
   "outputs": [
    {
     "data": {
      "text/plain": [
       "'abcdxfgh'"
      ]
     },
     "execution_count": 1,
     "metadata": {},
     "output_type": "execute_result"
    }
   ],
   "source": [
    "def replaceChar(s, a, b):\n",
    "    if len(s)==0:\n",
    "        return s\n",
    "    if s[0]!=a:\n",
    "        return (s[0]+replaceChar(s[1:],a,b))\n",
    "    else:\n",
    "        return (b+replaceChar(s[1:],a,b))\n",
    "    \n",
    "replaceChar(\"abcdefgh\",\"e\",\"x\")"
   ]
  },
  {
   "cell_type": "code",
   "execution_count": 2,
   "metadata": {},
   "outputs": [
    {
     "data": {
      "text/plain": [
       "'abcefgh'"
      ]
     },
     "execution_count": 2,
     "metadata": {},
     "output_type": "execute_result"
    }
   ],
   "source": [
    "def removeChar(s,a):\n",
    "    if len(s)==0:\n",
    "        return s\n",
    "    if s[0]==a:\n",
    "        return removeChar(s[1:],a)\n",
    "    else:\n",
    "        return s[0]+removeChar(s[1:],a)\n",
    "    \n",
    "removeChar(\"abcdefgh\", \"d\")"
   ]
  },
  {
   "cell_type": "code",
   "execution_count": 4,
   "metadata": {},
   "outputs": [
    {
     "data": {
      "text/plain": [
       "'apcd3.14'"
      ]
     },
     "execution_count": 4,
     "metadata": {},
     "output_type": "execute_result"
    }
   ],
   "source": [
    "def replacePi(s):\n",
    "    if len(s)==0 or len(s)==1:\n",
    "        return s\n",
    "    if s[0]==\"p\" and s[1]==\"i\":\n",
    "        return \"3.14\"+replacePi(s[2:])\n",
    "    else:\n",
    "        return s[0]+replacePi(s[1:])\n",
    "\n",
    "replacePi(\"apcdpi\")"
   ]
  },
  {
   "cell_type": "code",
   "execution_count": 6,
   "metadata": {},
   "outputs": [
    {
     "data": {
      "text/plain": [
       "'abcd'"
      ]
     },
     "execution_count": 6,
     "metadata": {},
     "output_type": "execute_result"
    }
   ],
   "source": [
    "def removeDup(s):                           #removes consecutive duplicated\n",
    "    if len(s)==0 or len(s)==1:\n",
    "        return s\n",
    "    if s[0]!=s[1]:\n",
    "        return s[0]+removeDup(s[1:])\n",
    "    else:\n",
    "        return removeDup(s[1:])\n",
    "\n",
    "removeDup(\"aabbcccd\")"
   ]
  },
  {
   "cell_type": "code",
   "execution_count": 8,
   "metadata": {},
   "outputs": [
    {
     "name": "stdout",
     "output_type": "stream",
     "text": [
      "ab\n",
      "ac\n",
      "bc\n",
      "ab\n",
      "ca\n",
      "cb\n",
      "ab\n",
      "ac\n",
      "bc\n",
      "ba\n",
      "ca\n",
      "bc\n",
      "ab\n",
      "ac\n",
      "bc\n",
      "None\n"
     ]
    }
   ],
   "source": [
    "def hanoiTower(n,a,b,c):\n",
    "    if n==0 or n==1:\n",
    "        print (a + c)\n",
    "        return\n",
    "    hanoiTower(n-1,a,c,b)\n",
    "    print(a+c)\n",
    "    hanoiTower(n-1,b,a,c)\n",
    "\n",
    "\n",
    "print(hanoiTower(4,\"a\",\"b\",\"c\"))"
   ]
  }
 ],
 "metadata": {
  "kernelspec": {
   "display_name": "Python 3",
   "language": "python",
   "name": "python3"
  },
  "language_info": {
   "codemirror_mode": {
    "name": "ipython",
    "version": 3
   },
   "file_extension": ".py",
   "mimetype": "text/x-python",
   "name": "python",
   "nbconvert_exporter": "python",
   "pygments_lexer": "ipython3",
   "version": "3.10.11"
  },
  "orig_nbformat": 4
 },
 "nbformat": 4,
 "nbformat_minor": 2
}
