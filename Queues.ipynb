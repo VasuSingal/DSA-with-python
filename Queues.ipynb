{
 "cells": [
  {
   "cell_type": "markdown",
   "metadata": {},
   "source": [
    "Queues using Arrays"
   ]
  },
  {
   "cell_type": "code",
   "execution_count": 7,
   "metadata": {},
   "outputs": [
    {
     "name": "stdout",
     "output_type": "stream",
     "text": [
      "5\n",
      "False\n",
      "5\n",
      "5\n",
      "4\n",
      "6\n"
     ]
    }
   ],
   "source": [
    "class Queue:\n",
    "\n",
    "    def __init__(self):\n",
    "        self.__data = []\n",
    "        self.__count = 0\n",
    "        self.__frontofqueue = 0\n",
    "\n",
    "    def enqueue(self,item):\n",
    "        self.__data.append(item)\n",
    "        self.__count = self.__count+1\n",
    "\n",
    "    def dequeue(self):\n",
    "        if self.__count == 0:\n",
    "            return -1\n",
    "        \n",
    "        element = self.__data[self.__frontofqueue]\n",
    "        self.__frontofqueue = self.__frontofqueue+1\n",
    "        self.__count = self.__count-1\n",
    "        return element\n",
    "\n",
    "    def size(self):\n",
    "        return self.__count\n",
    "    \n",
    "    def isempty(self):\n",
    "        return self.__count==0\n",
    "    \n",
    "    def front(self):\n",
    "        if self.isempty():\n",
    "            return (\"Hey! Queue is empty\")\n",
    "        else:\n",
    "            return self.__data[self.__frontofqueue]\n",
    "\n",
    "\n",
    "q = Queue()\n",
    "q.enqueue(5)\n",
    "q.enqueue(6)\n",
    "q.enqueue(7)\n",
    "q.enqueue(8)\n",
    "q.enqueue(9)\n",
    "print(q.size())\n",
    "print(q.isempty())\n",
    "print(q.front())\n",
    "print(q.dequeue())          #takes out the element in the front of the queue i.e. 5\n",
    "print(q.size())\n",
    "print(q.front())"
   ]
  },
  {
   "cell_type": "markdown",
   "metadata": {},
   "source": [
    "Queue using Linked List"
   ]
  },
  {
   "cell_type": "code",
   "execution_count": 8,
   "metadata": {},
   "outputs": [
    {
     "name": "stdout",
     "output_type": "stream",
     "text": [
      "5\n",
      "False\n",
      "5\n",
      "5\n",
      "4\n",
      "6\n"
     ]
    }
   ],
   "source": [
    "class Node:\n",
    "\n",
    "    def __init__(self,initData):\n",
    "        self.data = initData\n",
    "        self.next = None\n",
    "\n",
    "class QueueusingLL:\n",
    "\n",
    "    def __init__(self):\n",
    "        self.__head = None\n",
    "        self.__tail = None\n",
    "        self.__count = 0\n",
    "\n",
    "    def enqueue(self,item):\n",
    "        newNode = Node(item)\n",
    "        if self.__head == None:\n",
    "            self.__head = newNode\n",
    "        else:\n",
    "            self.__tail.next = newNode\n",
    "        \n",
    "        self.__tail = newNode\n",
    "        self.__count = self.__count+1\n",
    "\n",
    "    def dequeue(self):\n",
    "        if self.__head == None:\n",
    "            print(\"Hey! Queue is empty\")\n",
    "\n",
    "        data = self.__head.data\n",
    "        self.__head = self.__head.next\n",
    "        self.__count = self.__count-1\n",
    "        return data\n",
    "    \n",
    "    def front(self):\n",
    "        if self.__head == None:\n",
    "            print(\"Hey! Queue is empty\")\n",
    "\n",
    "        data = self.__head.data\n",
    "        return data\n",
    "    \n",
    "    def size(self):\n",
    "        return self.__count\n",
    "    \n",
    "    def isEmpty(self):\n",
    "        return self.__count == 0\n",
    "\n",
    "q = QueueusingLL()\n",
    "q.enqueue(5)\n",
    "q.enqueue(6)\n",
    "q.enqueue(7)\n",
    "q.enqueue(8)\n",
    "q.enqueue(9)\n",
    "print(q.size())\n",
    "print(q.isEmpty())\n",
    "print(q.front())\n",
    "print(q.dequeue())          #takes out the element in the front of the queue i.e. 5\n",
    "print(q.size())\n",
    "print(q.front())"
   ]
  },
  {
   "cell_type": "markdown",
   "metadata": {},
   "source": [
    "Queue using Two Stacks"
   ]
  },
  {
   "cell_type": "code",
   "execution_count": 11,
   "metadata": {},
   "outputs": [
    {
     "name": "stdout",
     "output_type": "stream",
     "text": [
      "5\n",
      "False\n",
      "5\n",
      "5\n",
      "4\n",
      "6\n"
     ]
    }
   ],
   "source": [
    "class QueueUsingStacks:\n",
    "\n",
    "    def __init__(self):\n",
    "        self.__s1 = []\n",
    "        self.__s2 = []\n",
    "\n",
    "    def enqueue(self,data):\n",
    "        while len(self.__s1)!=0:\n",
    "            self.__s2.append(self.__s1.pop())\n",
    "\n",
    "        self.__s1.append(data)\n",
    "\n",
    "        while len(self.__s2)!=0:\n",
    "            self.__s1.append(self.__s2.pop())\n",
    "\n",
    "        return self.__s1\n",
    "\n",
    "    def dequeue(self):\n",
    "        if len(self.__s1) == 0:\n",
    "            return -1\n",
    "        return self.__s1.pop()\n",
    "    \n",
    "    def front(self):\n",
    "        if len(self.__s1) == 0:\n",
    "            return -1\n",
    "        return self.__s1[-1]\n",
    "    \n",
    "    def size(self):\n",
    "        return len(self.__s1)\n",
    "    \n",
    "    def isEmpty(self):\n",
    "        return self.size()==0\n",
    "\n",
    "\n",
    "qu = QueueUsingStacks()\n",
    "qu.enqueue(5)\n",
    "qu.enqueue(6)\n",
    "qu.enqueue(7)\n",
    "qu.enqueue(8)\n",
    "qu.enqueue(9)\n",
    "print(qu.size())\n",
    "print(qu.isEmpty())\n",
    "print(qu.front())\n",
    "print(qu.dequeue())          #takes out the element in the front of the queue i.e. 5\n",
    "print(qu.size())\n",
    "print(qu.front())"
   ]
  }
 ],
 "metadata": {
  "kernelspec": {
   "display_name": "Python 3",
   "language": "python",
   "name": "python3"
  },
  "language_info": {
   "codemirror_mode": {
    "name": "ipython",
    "version": 3
   },
   "file_extension": ".py",
   "mimetype": "text/x-python",
   "name": "python",
   "nbconvert_exporter": "python",
   "pygments_lexer": "ipython3",
   "version": "3.10.11"
  },
  "orig_nbformat": 4
 },
 "nbformat": 4,
 "nbformat_minor": 2
}
